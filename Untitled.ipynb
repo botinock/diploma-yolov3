{
 "cells": [
  {
   "cell_type": "code",
   "execution_count": 1,
   "metadata": {},
   "outputs": [],
   "source": [
    "import time\n",
    "import shutil\n",
    "import cv2\n",
    "import os\n",
    "import xml.etree.ElementTree as ET\n",
    "import numpy as np"
   ]
  },
  {
   "cell_type": "code",
   "execution_count": 16,
   "metadata": {},
   "outputs": [],
   "source": [
    "!rm -r PKLot/images PKLot/labels"
   ]
  },
  {
   "cell_type": "code",
   "execution_count": 12,
   "metadata": {},
   "outputs": [
    {
     "name": "stdout",
     "output_type": "stream",
     "text": [
      "Dockerfile\tdetect.py\t    obj.data\t      test.py\t tutorial.ipynb\r\n",
      "PKLot\t\tdocker-compose.yml  obj.names\t      test.txt\t utils\r\n",
      "Untitled.ipynb\thubconf.py\t    park.yaml\t      train.py\t valid.txt\r\n",
      "data\t\tmodels\t\t    requirements.txt  train.txt  weights\r\n"
     ]
    }
   ],
   "source": [
    "!ls"
   ]
  },
  {
   "cell_type": "code",
   "execution_count": null,
   "metadata": {},
   "outputs": [],
   "source": [
    "start_time = time.time()\n",
    "train = open('train.txt', 'w')\n",
    "valid = open('valid.txt', 'w')\n",
    "test = open('test.txt', 'w')\n",
    "error = 0\n",
    "ind = 0\n",
    "try:\n",
    "    os.mkdir('PKLot/images')\n",
    "    os.mkdir('PKLot/images/train')\n",
    "    os.mkdir('PKLot/images/val')\n",
    "    os.mkdir('PKLot/images/test')\n",
    "    os.mkdir('PKLot/labels')\n",
    "    os.mkdir('PKLot/labels/train')\n",
    "    os.mkdir('PKLot/labels/val')\n",
    "    os.mkdir('PKLot/labels/test')\n",
    "except:\n",
    "    pass\n",
    "for folder in os.walk('PKLot/PKLot/PKLot/'):\n",
    "    for file_name in folder[2]:\n",
    "        if \"xml\" in file_name:\n",
    "            if ind%10 < 7:\n",
    "                f = open('PKLot/labels/train/' + file_name[:-3] + 'txt', 'w')\n",
    "#                 try:\n",
    "#                     shutil.move(folder[0] + '/' + file_name[:-3] + 'jpg', 'PKLot/images/train/' + file_name[:-3] + 'jpg')\n",
    "#                 except Exception as e:\n",
    "#                     pass\n",
    "                shutil.copy(folder[0] + '/' + file_name[:-3] + 'jpg', 'PKLot/images/train/' + file_name[:-3] + 'jpg')\n",
    "                if 'PUCPR' in folder[0]:\n",
    "                    pts = np.array([[300,190], [1280, 190], [1280, 500], [700, 500], [700, 600], [0, 600]])\n",
    "                    img = cv2.imread('PKLot/images/train/' + file_name[:-3] + 'jpg')\n",
    "                    mask = np.zeros(img.shape[:2], np.uint8)\n",
    "                    cv2.drawContours(mask, [pts], -1, (255, 255, 255), -1, cv2.LINE_AA)\n",
    "                    dst = cv2.bitwise_and(img, img, mask=mask)\n",
    "                    cv2.imwrite('PKLot/images/train/' + file_name[:-3] + 'jpg', dst)\n",
    "                train.write('PKLot/images/train/' + file_name[:-3] + 'jpg\\n')\n",
    "            elif ind%10 < 9:\n",
    "                f = open('PKLot/labels/val/' + file_name[:-3] + 'txt', 'w')\n",
    "                try:\n",
    "                    shutil.copy(folder[0] + '/' + file_name[:-3] + 'jpg', 'PKLot/images/val/' + file_name[:-3] + 'jpg')\n",
    "                except Exception as e:\n",
    "                    pass\n",
    "                if 'PUCPR' in folder[0]:\n",
    "                    pts = np.array([[300,190], [1280, 190], [1280, 500], [700, 500], [700, 600], [0, 600]])\n",
    "                    img = cv2.imread('PKLot/images/val/' + file_name[:-3] + 'jpg')\n",
    "                    mask = np.zeros(img.shape[:2], np.uint8)\n",
    "                    cv2.drawContours(mask, [pts], -1, (255, 255, 255), -1, cv2.LINE_AA)\n",
    "                    dst = cv2.bitwise_and(img, img, mask=mask)\n",
    "                    cv2.imwrite('PKLot/images/val/' + file_name[:-3] + 'jpg', dst)\n",
    "                valid.write('PKLot/images/val/' + file_name[:-3] + 'jpg\\n')\n",
    "            else:\n",
    "                f = open('PKLot/labels/test/' + file_name[:-3] + 'txt', 'w')\n",
    "                try:\n",
    "                    shutil.copy(folder[0] + '/' + file_name[:-3] + 'jpg', 'PKLot/images/test/' + file_name[:-3] + 'jpg')\n",
    "                except Exception as e:\n",
    "                    pass\n",
    "                test.write('PKLot/images/test/' + file_name[:-3] + 'jpg\\n')\n",
    "            ind = ind + 1\n",
    "            tree = ET.parse(folder[0] + '/' + file_name)\n",
    "            root = tree.getroot()\n",
    "            for i in root:\n",
    "                try:\n",
    "                    tx = []\n",
    "                    ty = []\n",
    "                    for a in range(4):\n",
    "                        tx.append(int(i[1][a].attrib['x']))\n",
    "                        ty.append(int(i[1][a].attrib['y']))\n",
    "                    x = (max(tx) + min(tx))/2\n",
    "                    y = (max(ty) + min(ty))/2\n",
    "                    width = max(tx) - min(tx)\n",
    "                    height = max(ty) - min(ty)\n",
    "                    f.write(\"{} {} {} {} {}\\n\".format(i.attrib['occupied'],\n",
    "                                                int(x)/1280.,\n",
    "                                                int(y)/720.,\n",
    "                                                int(width)/1280.,\n",
    "                                                int(height)/720.\n",
    "                                                ))\n",
    "                    \"\"\"\n",
    "                    f.write(\"{} {} {} {} {} {}\\n\".format(i.attrib['occupied'],\n",
    "                                                float(i[0][0].attrib['x'])/1280,\n",
    "                                                float(i[0][0].attrib['y'])/720,\n",
    "                                                float(i[0][1].attrib['w'])/1280,\n",
    "                                                float(i[0][1].attrib['h'])/720,\n",
    "                                                np.sin(-float(i[0][2].attrib['d']) * np.pi / 180.)))\"\"\"\n",
    "                    \"\"\"if float(i[0][2].attrib['d']) > max_a:\n",
    "                        max_a = float(i[0][2].attrib['d'])\n",
    "                    if float(i[0][2].attrib['d']) < min_a:\n",
    "                        min_a = float(i[0][2].attrib['d'])\"\"\"\n",
    "                except:\n",
    "                    error = error + 1\n",
    "            f.close()\n",
    "print(error)\n",
    "print('done')\n",
    "train.close()\n",
    "valid.close()\n",
    "test.close()\n",
    "#print(max_a)\n",
    "#print(min_a)\n",
    "print(\"--- %s seconds ---\" % (time.time() - start_time))"
   ]
  },
  {
   "cell_type": "code",
   "execution_count": null,
   "metadata": {},
   "outputs": [],
   "source": []
  }
 ],
 "metadata": {
  "kernelspec": {
   "display_name": "Python 3",
   "language": "python",
   "name": "python3"
  },
  "language_info": {
   "codemirror_mode": {
    "name": "ipython",
    "version": 3
   },
   "file_extension": ".py",
   "mimetype": "text/x-python",
   "name": "python",
   "nbconvert_exporter": "python",
   "pygments_lexer": "ipython3",
   "version": "3.8.5"
  }
 },
 "nbformat": 4,
 "nbformat_minor": 4
}
