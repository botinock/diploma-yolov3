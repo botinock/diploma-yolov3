{
 "cells": [
  {
   "cell_type": "code",
   "execution_count": 1,
   "metadata": {},
   "outputs": [],
   "source": [
    "import time\n",
    "import shutil\n",
    "import cv2\n",
    "import os\n",
    "import xml.etree.ElementTree as ET\n",
    "import numpy as np"
   ]
  },
  {
   "cell_type": "code",
   "execution_count": 16,
   "metadata": {},
   "outputs": [],
   "source": [
    "!rm -r PKLot/images PKLot/labels"
   ]
  },
  {
   "cell_type": "code",
   "execution_count": 12,
   "metadata": {},
   "outputs": [
    {
     "name": "stdout",
     "output_type": "stream",
     "text": [
      "Dockerfile\tdetect.py\t    obj.data\t      test.py\t tutorial.ipynb\r\n",
      "PKLot\t\tdocker-compose.yml  obj.names\t      test.txt\t utils\r\n",
      "Untitled.ipynb\thubconf.py\t    park.yaml\t      train.py\t valid.txt\r\n",
      "data\t\tmodels\t\t    requirements.txt  train.txt  weights\r\n"
     ]
    }
   ],
   "source": [
    "!ls"
   ]
  },
  {
   "cell_type": "code",
   "execution_count": 17,
   "metadata": {},
   "outputs": [
    {
     "name": "stdout",
     "output_type": "stream",
     "text": [
      "PKLot/PKLot/PKLot/UFPR05/Sunny/2013-03-06\n"
     ]
    },
    {
     "ename": "FileNotFoundError",
     "evalue": "[Errno 2] No such file or directory: 'PKLot/PKLot/PKLot/UFPR05/Sunny/2013-03-06/2013-03-06_14_30_10.jpg'",
     "output_type": "error",
     "traceback": [
      "\u001b[0;31m---------------------------------------------------------------------------\u001b[0m",
      "\u001b[0;31mFileNotFoundError\u001b[0m                         Traceback (most recent call last)",
      "\u001b[0;32m/opt/conda/lib/python3.8/shutil.py\u001b[0m in \u001b[0;36mmove\u001b[0;34m(src, dst, copy_function)\u001b[0m\n\u001b[1;32m    787\u001b[0m     \u001b[0;32mtry\u001b[0m\u001b[0;34m:\u001b[0m\u001b[0;34m\u001b[0m\u001b[0;34m\u001b[0m\u001b[0m\n\u001b[0;32m--> 788\u001b[0;31m         \u001b[0mos\u001b[0m\u001b[0;34m.\u001b[0m\u001b[0mrename\u001b[0m\u001b[0;34m(\u001b[0m\u001b[0msrc\u001b[0m\u001b[0;34m,\u001b[0m \u001b[0mreal_dst\u001b[0m\u001b[0;34m)\u001b[0m\u001b[0;34m\u001b[0m\u001b[0;34m\u001b[0m\u001b[0m\n\u001b[0m\u001b[1;32m    789\u001b[0m     \u001b[0;32mexcept\u001b[0m \u001b[0mOSError\u001b[0m\u001b[0;34m:\u001b[0m\u001b[0;34m\u001b[0m\u001b[0;34m\u001b[0m\u001b[0m\n",
      "\u001b[0;31mFileNotFoundError\u001b[0m: [Errno 2] No such file or directory: 'PKLot/PKLot/PKLot/UFPR05/Sunny/2013-03-06/2013-03-06_14_30_10.jpg' -> 'PKLot/images/train/2013-03-06_14_30_10.jpg'",
      "\nDuring handling of the above exception, another exception occurred:\n",
      "\u001b[0;31mFileNotFoundError\u001b[0m                         Traceback (most recent call last)",
      "\u001b[0;32m<ipython-input-17-40e8df358c16>\u001b[0m in \u001b[0;36m<module>\u001b[0;34m\u001b[0m\n\u001b[1;32m     28\u001b[0m \u001b[0;31m#                 except Exception as e:\u001b[0m\u001b[0;34m\u001b[0m\u001b[0;34m\u001b[0m\u001b[0;34m\u001b[0m\u001b[0m\n\u001b[1;32m     29\u001b[0m \u001b[0;31m#                     pass\u001b[0m\u001b[0;34m\u001b[0m\u001b[0;34m\u001b[0m\u001b[0;34m\u001b[0m\u001b[0m\n\u001b[0;32m---> 30\u001b[0;31m                 \u001b[0mshutil\u001b[0m\u001b[0;34m.\u001b[0m\u001b[0mmove\u001b[0m\u001b[0;34m(\u001b[0m\u001b[0mfolder\u001b[0m\u001b[0;34m[\u001b[0m\u001b[0;36m0\u001b[0m\u001b[0;34m]\u001b[0m \u001b[0;34m+\u001b[0m \u001b[0;34m'/'\u001b[0m \u001b[0;34m+\u001b[0m \u001b[0mfile_name\u001b[0m\u001b[0;34m[\u001b[0m\u001b[0;34m:\u001b[0m\u001b[0;34m-\u001b[0m\u001b[0;36m3\u001b[0m\u001b[0;34m]\u001b[0m \u001b[0;34m+\u001b[0m \u001b[0;34m'jpg'\u001b[0m\u001b[0;34m,\u001b[0m \u001b[0;34m'PKLot/images/train/'\u001b[0m \u001b[0;34m+\u001b[0m \u001b[0mfile_name\u001b[0m\u001b[0;34m[\u001b[0m\u001b[0;34m:\u001b[0m\u001b[0;34m-\u001b[0m\u001b[0;36m3\u001b[0m\u001b[0;34m]\u001b[0m \u001b[0;34m+\u001b[0m \u001b[0;34m'jpg'\u001b[0m\u001b[0;34m)\u001b[0m\u001b[0;34m\u001b[0m\u001b[0;34m\u001b[0m\u001b[0m\n\u001b[0m\u001b[1;32m     31\u001b[0m                 \u001b[0;32mif\u001b[0m \u001b[0;34m'PUCPR'\u001b[0m \u001b[0;32min\u001b[0m \u001b[0mfolder\u001b[0m\u001b[0;34m[\u001b[0m\u001b[0;36m0\u001b[0m\u001b[0;34m]\u001b[0m\u001b[0;34m:\u001b[0m\u001b[0;34m\u001b[0m\u001b[0;34m\u001b[0m\u001b[0m\n\u001b[1;32m     32\u001b[0m                     \u001b[0mpts\u001b[0m \u001b[0;34m=\u001b[0m \u001b[0mnp\u001b[0m\u001b[0;34m.\u001b[0m\u001b[0marray\u001b[0m\u001b[0;34m(\u001b[0m\u001b[0;34m[\u001b[0m\u001b[0;34m[\u001b[0m\u001b[0;36m300\u001b[0m\u001b[0;34m,\u001b[0m\u001b[0;36m190\u001b[0m\u001b[0;34m]\u001b[0m\u001b[0;34m,\u001b[0m \u001b[0;34m[\u001b[0m\u001b[0;36m1280\u001b[0m\u001b[0;34m,\u001b[0m \u001b[0;36m190\u001b[0m\u001b[0;34m]\u001b[0m\u001b[0;34m,\u001b[0m \u001b[0;34m[\u001b[0m\u001b[0;36m1280\u001b[0m\u001b[0;34m,\u001b[0m \u001b[0;36m500\u001b[0m\u001b[0;34m]\u001b[0m\u001b[0;34m,\u001b[0m \u001b[0;34m[\u001b[0m\u001b[0;36m700\u001b[0m\u001b[0;34m,\u001b[0m \u001b[0;36m500\u001b[0m\u001b[0;34m]\u001b[0m\u001b[0;34m,\u001b[0m \u001b[0;34m[\u001b[0m\u001b[0;36m700\u001b[0m\u001b[0;34m,\u001b[0m \u001b[0;36m600\u001b[0m\u001b[0;34m]\u001b[0m\u001b[0;34m,\u001b[0m \u001b[0;34m[\u001b[0m\u001b[0;36m0\u001b[0m\u001b[0;34m,\u001b[0m \u001b[0;36m600\u001b[0m\u001b[0;34m]\u001b[0m\u001b[0;34m]\u001b[0m\u001b[0;34m)\u001b[0m\u001b[0;34m\u001b[0m\u001b[0;34m\u001b[0m\u001b[0m\n",
      "\u001b[0;32m/opt/conda/lib/python3.8/shutil.py\u001b[0m in \u001b[0;36mmove\u001b[0;34m(src, dst, copy_function)\u001b[0m\n\u001b[1;32m    800\u001b[0m             \u001b[0mrmtree\u001b[0m\u001b[0;34m(\u001b[0m\u001b[0msrc\u001b[0m\u001b[0;34m)\u001b[0m\u001b[0;34m\u001b[0m\u001b[0;34m\u001b[0m\u001b[0m\n\u001b[1;32m    801\u001b[0m         \u001b[0;32melse\u001b[0m\u001b[0;34m:\u001b[0m\u001b[0;34m\u001b[0m\u001b[0;34m\u001b[0m\u001b[0m\n\u001b[0;32m--> 802\u001b[0;31m             \u001b[0mcopy_function\u001b[0m\u001b[0;34m(\u001b[0m\u001b[0msrc\u001b[0m\u001b[0;34m,\u001b[0m \u001b[0mreal_dst\u001b[0m\u001b[0;34m)\u001b[0m\u001b[0;34m\u001b[0m\u001b[0;34m\u001b[0m\u001b[0m\n\u001b[0m\u001b[1;32m    803\u001b[0m             \u001b[0mos\u001b[0m\u001b[0;34m.\u001b[0m\u001b[0munlink\u001b[0m\u001b[0;34m(\u001b[0m\u001b[0msrc\u001b[0m\u001b[0;34m)\u001b[0m\u001b[0;34m\u001b[0m\u001b[0;34m\u001b[0m\u001b[0m\n\u001b[1;32m    804\u001b[0m     \u001b[0;32mreturn\u001b[0m \u001b[0mreal_dst\u001b[0m\u001b[0;34m\u001b[0m\u001b[0;34m\u001b[0m\u001b[0m\n",
      "\u001b[0;32m/opt/conda/lib/python3.8/shutil.py\u001b[0m in \u001b[0;36mcopy2\u001b[0;34m(src, dst, follow_symlinks)\u001b[0m\n\u001b[1;32m    430\u001b[0m     \u001b[0;32mif\u001b[0m \u001b[0mos\u001b[0m\u001b[0;34m.\u001b[0m\u001b[0mpath\u001b[0m\u001b[0;34m.\u001b[0m\u001b[0misdir\u001b[0m\u001b[0;34m(\u001b[0m\u001b[0mdst\u001b[0m\u001b[0;34m)\u001b[0m\u001b[0;34m:\u001b[0m\u001b[0;34m\u001b[0m\u001b[0;34m\u001b[0m\u001b[0m\n\u001b[1;32m    431\u001b[0m         \u001b[0mdst\u001b[0m \u001b[0;34m=\u001b[0m \u001b[0mos\u001b[0m\u001b[0;34m.\u001b[0m\u001b[0mpath\u001b[0m\u001b[0;34m.\u001b[0m\u001b[0mjoin\u001b[0m\u001b[0;34m(\u001b[0m\u001b[0mdst\u001b[0m\u001b[0;34m,\u001b[0m \u001b[0mos\u001b[0m\u001b[0;34m.\u001b[0m\u001b[0mpath\u001b[0m\u001b[0;34m.\u001b[0m\u001b[0mbasename\u001b[0m\u001b[0;34m(\u001b[0m\u001b[0msrc\u001b[0m\u001b[0;34m)\u001b[0m\u001b[0;34m)\u001b[0m\u001b[0;34m\u001b[0m\u001b[0;34m\u001b[0m\u001b[0m\n\u001b[0;32m--> 432\u001b[0;31m     \u001b[0mcopyfile\u001b[0m\u001b[0;34m(\u001b[0m\u001b[0msrc\u001b[0m\u001b[0;34m,\u001b[0m \u001b[0mdst\u001b[0m\u001b[0;34m,\u001b[0m \u001b[0mfollow_symlinks\u001b[0m\u001b[0;34m=\u001b[0m\u001b[0mfollow_symlinks\u001b[0m\u001b[0;34m)\u001b[0m\u001b[0;34m\u001b[0m\u001b[0;34m\u001b[0m\u001b[0m\n\u001b[0m\u001b[1;32m    433\u001b[0m     \u001b[0mcopystat\u001b[0m\u001b[0;34m(\u001b[0m\u001b[0msrc\u001b[0m\u001b[0;34m,\u001b[0m \u001b[0mdst\u001b[0m\u001b[0;34m,\u001b[0m \u001b[0mfollow_symlinks\u001b[0m\u001b[0;34m=\u001b[0m\u001b[0mfollow_symlinks\u001b[0m\u001b[0;34m)\u001b[0m\u001b[0;34m\u001b[0m\u001b[0;34m\u001b[0m\u001b[0m\n\u001b[1;32m    434\u001b[0m     \u001b[0;32mreturn\u001b[0m \u001b[0mdst\u001b[0m\u001b[0;34m\u001b[0m\u001b[0;34m\u001b[0m\u001b[0m\n",
      "\u001b[0;32m/opt/conda/lib/python3.8/shutil.py\u001b[0m in \u001b[0;36mcopyfile\u001b[0;34m(src, dst, follow_symlinks)\u001b[0m\n\u001b[1;32m    259\u001b[0m         \u001b[0mos\u001b[0m\u001b[0;34m.\u001b[0m\u001b[0msymlink\u001b[0m\u001b[0;34m(\u001b[0m\u001b[0mos\u001b[0m\u001b[0;34m.\u001b[0m\u001b[0mreadlink\u001b[0m\u001b[0;34m(\u001b[0m\u001b[0msrc\u001b[0m\u001b[0;34m)\u001b[0m\u001b[0;34m,\u001b[0m \u001b[0mdst\u001b[0m\u001b[0;34m)\u001b[0m\u001b[0;34m\u001b[0m\u001b[0;34m\u001b[0m\u001b[0m\n\u001b[1;32m    260\u001b[0m     \u001b[0;32melse\u001b[0m\u001b[0;34m:\u001b[0m\u001b[0;34m\u001b[0m\u001b[0;34m\u001b[0m\u001b[0m\n\u001b[0;32m--> 261\u001b[0;31m         \u001b[0;32mwith\u001b[0m \u001b[0mopen\u001b[0m\u001b[0;34m(\u001b[0m\u001b[0msrc\u001b[0m\u001b[0;34m,\u001b[0m \u001b[0;34m'rb'\u001b[0m\u001b[0;34m)\u001b[0m \u001b[0;32mas\u001b[0m \u001b[0mfsrc\u001b[0m\u001b[0;34m,\u001b[0m \u001b[0mopen\u001b[0m\u001b[0;34m(\u001b[0m\u001b[0mdst\u001b[0m\u001b[0;34m,\u001b[0m \u001b[0;34m'wb'\u001b[0m\u001b[0;34m)\u001b[0m \u001b[0;32mas\u001b[0m \u001b[0mfdst\u001b[0m\u001b[0;34m:\u001b[0m\u001b[0;34m\u001b[0m\u001b[0;34m\u001b[0m\u001b[0m\n\u001b[0m\u001b[1;32m    262\u001b[0m             \u001b[0;31m# macOS\u001b[0m\u001b[0;34m\u001b[0m\u001b[0;34m\u001b[0m\u001b[0;34m\u001b[0m\u001b[0m\n\u001b[1;32m    263\u001b[0m             \u001b[0;32mif\u001b[0m \u001b[0m_HAS_FCOPYFILE\u001b[0m\u001b[0;34m:\u001b[0m\u001b[0;34m\u001b[0m\u001b[0;34m\u001b[0m\u001b[0m\n",
      "\u001b[0;31mFileNotFoundError\u001b[0m: [Errno 2] No such file or directory: 'PKLot/PKLot/PKLot/UFPR05/Sunny/2013-03-06/2013-03-06_14_30_10.jpg'"
     ]
    }
   ],
   "source": [
    "start_time = time.time()\n",
    "train = open('train.txt', 'w')\n",
    "valid = open('valid.txt', 'w')\n",
    "test = open('test.txt', 'w')\n",
    "error = 0\n",
    "ind = 0\n",
    "try:\n",
    "    os.mkdir('PKLot/images')\n",
    "    os.mkdir('PKLot/images/train')\n",
    "    os.mkdir('PKLot/images/val')\n",
    "    os.mkdir('PKLot/images/test')\n",
    "    os.mkdir('PKLot/labels')\n",
    "    os.mkdir('PKLot/labels/train')\n",
    "    os.mkdir('PKLot/labels/val')\n",
    "    os.mkdir('PKLot/labels/test')\n",
    "except:\n",
    "    pass\n",
    "a = 0\n",
    "for folder in os.walk('PKLot/PKLot/PKLot/'):\n",
    "    a = a + 1\n",
    "    for file_name in folder[2]:\n",
    "        print(folder[0])\n",
    "        if \"xml\" in file_name:\n",
    "            if ind%10 < 7:\n",
    "                f = open('PKLot/labels/train/' + file_name[:-3] + 'txt', 'w')\n",
    "#                 try:\n",
    "#                     shutil.move(folder[0] + '/' + file_name[:-3] + 'jpg', 'PKLot/images/train/' + file_name[:-3] + 'jpg')\n",
    "#                 except Exception as e:\n",
    "#                     pass\n",
    "                shutil.copy(folder[0] + '/' + file_name[:-3] + 'jpg', 'PKLot/images/train/' + file_name[:-3] + 'jpg')\n",
    "                if 'PUCPR' in folder[0]:\n",
    "                    pts = np.array([[300,190], [1280, 190], [1280, 500], [700, 500], [700, 600], [0, 600]])\n",
    "                    img = cv2.imread('PKLot/images/train/' + file_name[:-3] + 'jpg')\n",
    "                    mask = np.zeros(img.shape[:2], np.uint8)\n",
    "                    cv2.drawContours(mask, [pts], -1, (255, 255, 255), -1, cv2.LINE_AA)\n",
    "                    dst = cv2.bitwise_and(img, img, mask=mask)\n",
    "                    cv2.imwrite('PKLot/images/train/' + file_name[:-3] + 'jpg', dst)\n",
    "                train.write('PKLot/images/train/' + file_name[:-3] + 'jpg\\n')\n",
    "            elif ind%10 < 9:\n",
    "                f = open('PKLot/labels/val/' + file_name[:-3] + 'txt', 'w')\n",
    "                try:\n",
    "                    shutil.copy(folder[0] + '/' + file_name[:-3] + 'jpg', 'PKLot/images/val/' + file_name[:-3] + 'jpg')\n",
    "                except Exception as e:\n",
    "                    pass\n",
    "                if 'PUCPR' in folder[0]:\n",
    "                    pts = np.array([[300,190], [1280, 190], [1280, 500], [700, 500], [700, 600], [0, 600]])\n",
    "                    img = cv2.imread('PKLot/images/val/' + file_name[:-3] + 'jpg')\n",
    "                    mask = np.zeros(img.shape[:2], np.uint8)\n",
    "                    cv2.drawContours(mask, [pts], -1, (255, 255, 255), -1, cv2.LINE_AA)\n",
    "                    dst = cv2.bitwise_and(img, img, mask=mask)\n",
    "                    cv2.imwrite('PKLot/images/val/' + file_name[:-3] + 'jpg', dst)\n",
    "                valid.write('PKLot/images/val/' + file_name[:-3] + 'jpg\\n')\n",
    "            else:\n",
    "                f = open('PKLot/labels/test/' + file_name[:-3] + 'txt', 'w')\n",
    "                try:\n",
    "                    shutil.copy(folder[0] + '/' + file_name[:-3] + 'jpg', 'PKLot/images/test/' + file_name[:-3] + 'jpg')\n",
    "                except Exception as e:\n",
    "                    pass\n",
    "                test.write('PKLot/images/test/' + file_name[:-3] + 'jpg\\n')\n",
    "            ind = ind + 1\n",
    "            tree = ET.parse(folder[0] + '/' + file_name)\n",
    "            root = tree.getroot()\n",
    "            for i in root:\n",
    "                try:\n",
    "                    tx = []\n",
    "                    ty = []\n",
    "                    for a in range(4):\n",
    "                        tx.append(int(i[1][a].attrib['x']))\n",
    "                        ty.append(int(i[1][a].attrib['y']))\n",
    "                    x = (max(tx) + min(tx))/2\n",
    "                    y = (max(ty) + min(ty))/2\n",
    "                    width = max(tx) - min(tx)\n",
    "                    height = max(ty) - min(ty)\n",
    "                    f.write(\"{} {} {} {} {}\\n\".format(i.attrib['occupied'],\n",
    "                                                int(x)/1280.,\n",
    "                                                int(y)/720.,\n",
    "                                                int(width)/1280.,\n",
    "                                                int(height)/720.\n",
    "                                                ))\n",
    "                    \"\"\"\n",
    "                    f.write(\"{} {} {} {} {} {}\\n\".format(i.attrib['occupied'],\n",
    "                                                float(i[0][0].attrib['x'])/1280,\n",
    "                                                float(i[0][0].attrib['y'])/720,\n",
    "                                                float(i[0][1].attrib['w'])/1280,\n",
    "                                                float(i[0][1].attrib['h'])/720,\n",
    "                                                np.sin(-float(i[0][2].attrib['d']) * np.pi / 180.)))\"\"\"\n",
    "                    \"\"\"if float(i[0][2].attrib['d']) > max_a:\n",
    "                        max_a = float(i[0][2].attrib['d'])\n",
    "                    if float(i[0][2].attrib['d']) < min_a:\n",
    "                        min_a = float(i[0][2].attrib['d'])\"\"\"\n",
    "                except:\n",
    "                    error = error + 1\n",
    "            f.close()\n",
    "print(error)\n",
    "print('done')\n",
    "train.close()\n",
    "valid.close()\n",
    "test.close()\n",
    "#print(max_a)\n",
    "#print(min_a)\n",
    "print(\"--- %s seconds ---\" % (time.time() - start_time))\n",
    "print(a)"
   ]
  },
  {
   "cell_type": "code",
   "execution_count": null,
   "metadata": {},
   "outputs": [],
   "source": []
  }
 ],
 "metadata": {
  "kernelspec": {
   "display_name": "Python 3",
   "language": "python",
   "name": "python3"
  },
  "language_info": {
   "codemirror_mode": {
    "name": "ipython",
    "version": 3
   },
   "file_extension": ".py",
   "mimetype": "text/x-python",
   "name": "python",
   "nbconvert_exporter": "python",
   "pygments_lexer": "ipython3",
   "version": "3.8.5"
  }
 },
 "nbformat": 4,
 "nbformat_minor": 4
}
